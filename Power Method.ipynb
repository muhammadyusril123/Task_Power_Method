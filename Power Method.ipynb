{
 "cells": [
  {
   "cell_type": "code",
   "execution_count": 22,
   "metadata": {},
   "outputs": [],
   "source": [
    "# M. Yusril Nugraha P (17523117)\n",
    "# Zikri Dwi Andika (17523226)"
   ]
  },
  {
   "cell_type": "code",
   "execution_count": 21,
   "metadata": {},
   "outputs": [],
   "source": [
    "# exercise\n",
    "# 1. Use power method to approximate a dominant eigenvalue and the corresponding eigenvector.\n",
    "# 2. Using Power Method, find the dominant eigenvalue and the corresponding eigenvector."
   ]
  },
  {
   "cell_type": "code",
   "execution_count": 166,
   "metadata": {},
   "outputs": [
    {
     "data": {
      "text/html": [
       "<table>\n",
       "<tbody>\n",
       "\t<tr><td>4 </td><td>-5</td></tr>\n",
       "\t<tr><td>2 </td><td>-3</td></tr>\n",
       "</tbody>\n",
       "</table>\n"
      ],
      "text/latex": [
       "\\begin{tabular}{ll}\n",
       "\t 4  & -5\\\\\n",
       "\t 2  & -3\\\\\n",
       "\\end{tabular}\n"
      ],
      "text/markdown": [
       "\n",
       "| 4  | -5 | \n",
       "| 2  | -3 | \n",
       "\n",
       "\n"
      ],
      "text/plain": [
       "     [,1] [,2]\n",
       "[1,] 4    -5  \n",
       "[2,] 2    -3  "
      ]
     },
     "metadata": {},
     "output_type": "display_data"
    },
    {
     "data": {
      "text/html": [
       "<table>\n",
       "<tbody>\n",
       "\t<tr><td>1</td></tr>\n",
       "\t<tr><td>0</td></tr>\n",
       "</tbody>\n",
       "</table>\n"
      ],
      "text/latex": [
       "\\begin{tabular}{l}\n",
       "\t 1\\\\\n",
       "\t 0\\\\\n",
       "\\end{tabular}\n"
      ],
      "text/markdown": [
       "\n",
       "| 1 | \n",
       "| 0 | \n",
       "\n",
       "\n"
      ],
      "text/plain": [
       "     [,1]\n",
       "[1,] 1   \n",
       "[2,] 0   "
      ]
     },
     "metadata": {},
     "output_type": "display_data"
    }
   ],
   "source": [
    "# Answer \n",
    "# matrix <=> A <- matrix(c(4, -5, 2, 3), 2, 2, TRUE)\n",
    "# no 1.\n",
    "A <- matrix(c(4, -5, 2, -3), 2, 2, TRUE)\n",
    "A\n",
    "\n",
    "# dengan 5x iterasi, dan X0 <- matrix(c(1, 0), 1, 1, TRUE)\n",
    "X0 <- matrix(c(1, 0), 2, 1, TRUE)\n",
    "X0"
   ]
  },
  {
   "cell_type": "code",
   "execution_count": 59,
   "metadata": {},
   "outputs": [
    {
     "data": {
      "text/html": [
       "<table>\n",
       "<tbody>\n",
       "\t<tr><td>4</td></tr>\n",
       "\t<tr><td>2</td></tr>\n",
       "</tbody>\n",
       "</table>\n"
      ],
      "text/latex": [
       "\\begin{tabular}{l}\n",
       "\t 4\\\\\n",
       "\t 2\\\\\n",
       "\\end{tabular}\n"
      ],
      "text/markdown": [
       "\n",
       "| 4 | \n",
       "| 2 | \n",
       "\n",
       "\n"
      ],
      "text/plain": [
       "     [,1]\n",
       "[1,] 4   \n",
       "[2,] 2   "
      ]
     },
     "metadata": {},
     "output_type": "display_data"
    },
    {
     "data": {
      "text/html": [
       "<table>\n",
       "<tbody>\n",
       "\t<tr><td>1.0</td></tr>\n",
       "\t<tr><td>0.5</td></tr>\n",
       "</tbody>\n",
       "</table>\n"
      ],
      "text/latex": [
       "\\begin{tabular}{l}\n",
       "\t 1.0\\\\\n",
       "\t 0.5\\\\\n",
       "\\end{tabular}\n"
      ],
      "text/markdown": [
       "\n",
       "| 1.0 | \n",
       "| 0.5 | \n",
       "\n",
       "\n"
      ],
      "text/plain": [
       "     [,1]\n",
       "[1,] 1.0 \n",
       "[2,] 0.5 "
      ]
     },
     "metadata": {},
     "output_type": "display_data"
    }
   ],
   "source": [
    "# X1 <- iterasi 1\n",
    "X1 <- A %*% X0\n",
    "X1\n",
    "eigen <- X1/4\n",
    "eigen"
   ]
  },
  {
   "cell_type": "code",
   "execution_count": 61,
   "metadata": {},
   "outputs": [
    {
     "data": {
      "text/html": [
       "<table>\n",
       "<tbody>\n",
       "\t<tr><td>6</td></tr>\n",
       "\t<tr><td>2</td></tr>\n",
       "</tbody>\n",
       "</table>\n"
      ],
      "text/latex": [
       "\\begin{tabular}{l}\n",
       "\t 6\\\\\n",
       "\t 2\\\\\n",
       "\\end{tabular}\n"
      ],
      "text/markdown": [
       "\n",
       "| 6 | \n",
       "| 2 | \n",
       "\n",
       "\n"
      ],
      "text/plain": [
       "     [,1]\n",
       "[1,] 6   \n",
       "[2,] 2   "
      ]
     },
     "metadata": {},
     "output_type": "display_data"
    },
    {
     "data": {
      "text/html": [
       "<table>\n",
       "<tbody>\n",
       "\t<tr><td>1.0000000</td></tr>\n",
       "\t<tr><td>0.3333333</td></tr>\n",
       "</tbody>\n",
       "</table>\n"
      ],
      "text/latex": [
       "\\begin{tabular}{l}\n",
       "\t 1.0000000\\\\\n",
       "\t 0.3333333\\\\\n",
       "\\end{tabular}\n"
      ],
      "text/markdown": [
       "\n",
       "| 1.0000000 | \n",
       "| 0.3333333 | \n",
       "\n",
       "\n"
      ],
      "text/plain": [
       "     [,1]     \n",
       "[1,] 1.0000000\n",
       "[2,] 0.3333333"
      ]
     },
     "metadata": {},
     "output_type": "display_data"
    }
   ],
   "source": [
    "# X2 <- iterasi 2\n",
    "X2 <- A %*% X1\n",
    "X2\n",
    "eigen <- X2/6\n",
    "eigen"
   ]
  },
  {
   "cell_type": "code",
   "execution_count": 63,
   "metadata": {},
   "outputs": [
    {
     "data": {
      "text/html": [
       "<table>\n",
       "<tbody>\n",
       "\t<tr><td>14</td></tr>\n",
       "\t<tr><td> 6</td></tr>\n",
       "</tbody>\n",
       "</table>\n"
      ],
      "text/latex": [
       "\\begin{tabular}{l}\n",
       "\t 14\\\\\n",
       "\t  6\\\\\n",
       "\\end{tabular}\n"
      ],
      "text/markdown": [
       "\n",
       "| 14 | \n",
       "|  6 | \n",
       "\n",
       "\n"
      ],
      "text/plain": [
       "     [,1]\n",
       "[1,] 14  \n",
       "[2,]  6  "
      ]
     },
     "metadata": {},
     "output_type": "display_data"
    },
    {
     "data": {
      "text/html": [
       "<table>\n",
       "<tbody>\n",
       "\t<tr><td>1.0000000</td></tr>\n",
       "\t<tr><td>0.4285714</td></tr>\n",
       "</tbody>\n",
       "</table>\n"
      ],
      "text/latex": [
       "\\begin{tabular}{l}\n",
       "\t 1.0000000\\\\\n",
       "\t 0.4285714\\\\\n",
       "\\end{tabular}\n"
      ],
      "text/markdown": [
       "\n",
       "| 1.0000000 | \n",
       "| 0.4285714 | \n",
       "\n",
       "\n"
      ],
      "text/plain": [
       "     [,1]     \n",
       "[1,] 1.0000000\n",
       "[2,] 0.4285714"
      ]
     },
     "metadata": {},
     "output_type": "display_data"
    }
   ],
   "source": [
    "# X3 <- iterasi 3\n",
    "X3 <- A %*% X2\n",
    "X3\n",
    "eigen <- X3/14\n",
    "eigen"
   ]
  },
  {
   "cell_type": "code",
   "execution_count": 66,
   "metadata": {},
   "outputs": [
    {
     "data": {
      "text/html": [
       "<table>\n",
       "<tbody>\n",
       "\t<tr><td>26</td></tr>\n",
       "\t<tr><td>10</td></tr>\n",
       "</tbody>\n",
       "</table>\n"
      ],
      "text/latex": [
       "\\begin{tabular}{l}\n",
       "\t 26\\\\\n",
       "\t 10\\\\\n",
       "\\end{tabular}\n"
      ],
      "text/markdown": [
       "\n",
       "| 26 | \n",
       "| 10 | \n",
       "\n",
       "\n"
      ],
      "text/plain": [
       "     [,1]\n",
       "[1,] 26  \n",
       "[2,] 10  "
      ]
     },
     "metadata": {},
     "output_type": "display_data"
    },
    {
     "data": {
      "text/html": [
       "<table>\n",
       "<tbody>\n",
       "\t<tr><td>1.0000000</td></tr>\n",
       "\t<tr><td>0.3846154</td></tr>\n",
       "</tbody>\n",
       "</table>\n"
      ],
      "text/latex": [
       "\\begin{tabular}{l}\n",
       "\t 1.0000000\\\\\n",
       "\t 0.3846154\\\\\n",
       "\\end{tabular}\n"
      ],
      "text/markdown": [
       "\n",
       "| 1.0000000 | \n",
       "| 0.3846154 | \n",
       "\n",
       "\n"
      ],
      "text/plain": [
       "     [,1]     \n",
       "[1,] 1.0000000\n",
       "[2,] 0.3846154"
      ]
     },
     "metadata": {},
     "output_type": "display_data"
    }
   ],
   "source": [
    "# X4 <- iterasi 4\n",
    "X4 <- A %*% X3\n",
    "X4\n",
    "eigen <- X4/26\n",
    "eigen"
   ]
  },
  {
   "cell_type": "code",
   "execution_count": 68,
   "metadata": {},
   "outputs": [
    {
     "data": {
      "text/html": [
       "<table>\n",
       "<tbody>\n",
       "\t<tr><td>54</td></tr>\n",
       "\t<tr><td>22</td></tr>\n",
       "</tbody>\n",
       "</table>\n"
      ],
      "text/latex": [
       "\\begin{tabular}{l}\n",
       "\t 54\\\\\n",
       "\t 22\\\\\n",
       "\\end{tabular}\n"
      ],
      "text/markdown": [
       "\n",
       "| 54 | \n",
       "| 22 | \n",
       "\n",
       "\n"
      ],
      "text/plain": [
       "     [,1]\n",
       "[1,] 54  \n",
       "[2,] 22  "
      ]
     },
     "metadata": {},
     "output_type": "display_data"
    },
    {
     "data": {
      "text/html": [
       "<table>\n",
       "<tbody>\n",
       "\t<tr><td>1.0000000</td></tr>\n",
       "\t<tr><td>0.4074074</td></tr>\n",
       "</tbody>\n",
       "</table>\n"
      ],
      "text/latex": [
       "\\begin{tabular}{l}\n",
       "\t 1.0000000\\\\\n",
       "\t 0.4074074\\\\\n",
       "\\end{tabular}\n"
      ],
      "text/markdown": [
       "\n",
       "| 1.0000000 | \n",
       "| 0.4074074 | \n",
       "\n",
       "\n"
      ],
      "text/plain": [
       "     [,1]     \n",
       "[1,] 1.0000000\n",
       "[2,] 0.4074074"
      ]
     },
     "metadata": {},
     "output_type": "display_data"
    }
   ],
   "source": [
    "# X5 <- iterasi 5\n",
    "X5 <- A %*% X4\n",
    "X5\n",
    "eigen <- X5/54\n",
    "eigen"
   ]
  },
  {
   "cell_type": "code",
   "execution_count": 30,
   "metadata": {},
   "outputs": [
    {
     "data": {
      "text/html": [
       "<table>\n",
       "<tbody>\n",
       "\t<tr><td> 0 </td><td>11 </td><td> -5</td></tr>\n",
       "\t<tr><td>-2 </td><td>17 </td><td> -7</td></tr>\n",
       "\t<tr><td>-4 </td><td>26 </td><td>-10</td></tr>\n",
       "</tbody>\n",
       "</table>\n"
      ],
      "text/latex": [
       "\\begin{tabular}{lll}\n",
       "\t  0  & 11  &  -5\\\\\n",
       "\t -2  & 17  &  -7\\\\\n",
       "\t -4  & 26  & -10\\\\\n",
       "\\end{tabular}\n"
      ],
      "text/markdown": [
       "\n",
       "|  0  | 11  |  -5 | \n",
       "| -2  | 17  |  -7 | \n",
       "| -4  | 26  | -10 | \n",
       "\n",
       "\n"
      ],
      "text/plain": [
       "     [,1] [,2] [,3]\n",
       "[1,]  0   11    -5 \n",
       "[2,] -2   17    -7 \n",
       "[3,] -4   26   -10 "
      ]
     },
     "metadata": {},
     "output_type": "display_data"
    },
    {
     "data": {
      "text/html": [
       "<table>\n",
       "<tbody>\n",
       "\t<tr><td>1</td></tr>\n",
       "\t<tr><td>1</td></tr>\n",
       "\t<tr><td>1</td></tr>\n",
       "</tbody>\n",
       "</table>\n"
      ],
      "text/latex": [
       "\\begin{tabular}{l}\n",
       "\t 1\\\\\n",
       "\t 1\\\\\n",
       "\t 1\\\\\n",
       "\\end{tabular}\n"
      ],
      "text/markdown": [
       "\n",
       "| 1 | \n",
       "| 1 | \n",
       "| 1 | \n",
       "\n",
       "\n"
      ],
      "text/plain": [
       "     [,1]\n",
       "[1,] 1   \n",
       "[2,] 1   \n",
       "[3,] 1   "
      ]
     },
     "metadata": {},
     "output_type": "display_data"
    }
   ],
   "source": [
    "# matrix <=> B <- matrix(c(0, 11, -5, \n",
    "#                         -2, 17, -7\n",
    "#                         -4, 26, -10), 3, 3, TRUE)\n",
    "B <- matrix(c(0, 11, -5, \n",
    "             -2, 17, -7,\n",
    "             -4, 26, -10), 3, 3, TRUE)\n",
    "B\n",
    "\n",
    "# dengan 10x iterasi, dan X0 <- matrix(c(1, 1, 1), 3, 1, TRUE)\n",
    "X0 <- matrix(c(1, 1, 1), 3, 1, TRUE)\n",
    "X0"
   ]
  },
  {
   "cell_type": "code",
   "execution_count": 35,
   "metadata": {},
   "outputs": [
    {
     "data": {
      "text/html": [
       "<table>\n",
       "<tbody>\n",
       "\t<tr><td> 6</td></tr>\n",
       "\t<tr><td> 8</td></tr>\n",
       "\t<tr><td>12</td></tr>\n",
       "</tbody>\n",
       "</table>\n"
      ],
      "text/latex": [
       "\\begin{tabular}{l}\n",
       "\t  6\\\\\n",
       "\t  8\\\\\n",
       "\t 12\\\\\n",
       "\\end{tabular}\n"
      ],
      "text/markdown": [
       "\n",
       "|  6 | \n",
       "|  8 | \n",
       "| 12 | \n",
       "\n",
       "\n"
      ],
      "text/plain": [
       "     [,1]\n",
       "[1,]  6  \n",
       "[2,]  8  \n",
       "[3,] 12  "
      ]
     },
     "metadata": {},
     "output_type": "display_data"
    },
    {
     "data": {
      "text/html": [
       "<table>\n",
       "<tbody>\n",
       "\t<tr><td>0.5000000</td></tr>\n",
       "\t<tr><td>0.6666667</td></tr>\n",
       "\t<tr><td>1.0000000</td></tr>\n",
       "</tbody>\n",
       "</table>\n"
      ],
      "text/latex": [
       "\\begin{tabular}{l}\n",
       "\t 0.5000000\\\\\n",
       "\t 0.6666667\\\\\n",
       "\t 1.0000000\\\\\n",
       "\\end{tabular}\n"
      ],
      "text/markdown": [
       "\n",
       "| 0.5000000 | \n",
       "| 0.6666667 | \n",
       "| 1.0000000 | \n",
       "\n",
       "\n"
      ],
      "text/plain": [
       "     [,1]     \n",
       "[1,] 0.5000000\n",
       "[2,] 0.6666667\n",
       "[3,] 1.0000000"
      ]
     },
     "metadata": {},
     "output_type": "display_data"
    }
   ],
   "source": [
    "# X1 <- iterasi 1\n",
    "\n",
    "X1 <- B %*% X0\n",
    "X1\n",
    "eigen <- X1/12\n",
    "eigen"
   ]
  },
  {
   "cell_type": "code",
   "execution_count": 38,
   "metadata": {},
   "outputs": [
    {
     "data": {
      "text/html": [
       "<table>\n",
       "<tbody>\n",
       "\t<tr><td>28</td></tr>\n",
       "\t<tr><td>40</td></tr>\n",
       "\t<tr><td>64</td></tr>\n",
       "</tbody>\n",
       "</table>\n"
      ],
      "text/latex": [
       "\\begin{tabular}{l}\n",
       "\t 28\\\\\n",
       "\t 40\\\\\n",
       "\t 64\\\\\n",
       "\\end{tabular}\n"
      ],
      "text/markdown": [
       "\n",
       "| 28 | \n",
       "| 40 | \n",
       "| 64 | \n",
       "\n",
       "\n"
      ],
      "text/plain": [
       "     [,1]\n",
       "[1,] 28  \n",
       "[2,] 40  \n",
       "[3,] 64  "
      ]
     },
     "metadata": {},
     "output_type": "display_data"
    },
    {
     "data": {
      "text/html": [
       "<table>\n",
       "<tbody>\n",
       "\t<tr><td>0.4375</td></tr>\n",
       "\t<tr><td>0.6250</td></tr>\n",
       "\t<tr><td>1.0000</td></tr>\n",
       "</tbody>\n",
       "</table>\n"
      ],
      "text/latex": [
       "\\begin{tabular}{l}\n",
       "\t 0.4375\\\\\n",
       "\t 0.6250\\\\\n",
       "\t 1.0000\\\\\n",
       "\\end{tabular}\n"
      ],
      "text/markdown": [
       "\n",
       "| 0.4375 | \n",
       "| 0.6250 | \n",
       "| 1.0000 | \n",
       "\n",
       "\n"
      ],
      "text/plain": [
       "     [,1]  \n",
       "[1,] 0.4375\n",
       "[2,] 0.6250\n",
       "[3,] 1.0000"
      ]
     },
     "metadata": {},
     "output_type": "display_data"
    }
   ],
   "source": [
    "# X2 <- iterasi 2\n",
    "X2 <- B %*% X1\n",
    "X2\n",
    "eigen <- X2/64\n",
    "eigen"
   ]
  },
  {
   "cell_type": "code",
   "execution_count": 40,
   "metadata": {},
   "outputs": [
    {
     "data": {
      "text/html": [
       "<table>\n",
       "<tbody>\n",
       "\t<tr><td>120</td></tr>\n",
       "\t<tr><td>176</td></tr>\n",
       "\t<tr><td>288</td></tr>\n",
       "</tbody>\n",
       "</table>\n"
      ],
      "text/latex": [
       "\\begin{tabular}{l}\n",
       "\t 120\\\\\n",
       "\t 176\\\\\n",
       "\t 288\\\\\n",
       "\\end{tabular}\n"
      ],
      "text/markdown": [
       "\n",
       "| 120 | \n",
       "| 176 | \n",
       "| 288 | \n",
       "\n",
       "\n"
      ],
      "text/plain": [
       "     [,1]\n",
       "[1,] 120 \n",
       "[2,] 176 \n",
       "[3,] 288 "
      ]
     },
     "metadata": {},
     "output_type": "display_data"
    },
    {
     "data": {
      "text/html": [
       "<table>\n",
       "<tbody>\n",
       "\t<tr><td>0.4166667</td></tr>\n",
       "\t<tr><td>0.6111111</td></tr>\n",
       "\t<tr><td>1.0000000</td></tr>\n",
       "</tbody>\n",
       "</table>\n"
      ],
      "text/latex": [
       "\\begin{tabular}{l}\n",
       "\t 0.4166667\\\\\n",
       "\t 0.6111111\\\\\n",
       "\t 1.0000000\\\\\n",
       "\\end{tabular}\n"
      ],
      "text/markdown": [
       "\n",
       "| 0.4166667 | \n",
       "| 0.6111111 | \n",
       "| 1.0000000 | \n",
       "\n",
       "\n"
      ],
      "text/plain": [
       "     [,1]     \n",
       "[1,] 0.4166667\n",
       "[2,] 0.6111111\n",
       "[3,] 1.0000000"
      ]
     },
     "metadata": {},
     "output_type": "display_data"
    }
   ],
   "source": [
    "# X3 <- iterasi 3\n",
    "X3 <- B %*% X2\n",
    "X3\n",
    "eigen <- X3/288\n",
    "eigen"
   ]
  },
  {
   "cell_type": "code",
   "execution_count": 42,
   "metadata": {},
   "outputs": [
    {
     "data": {
      "text/html": [
       "<table>\n",
       "<tbody>\n",
       "\t<tr><td> 496</td></tr>\n",
       "\t<tr><td> 736</td></tr>\n",
       "\t<tr><td>1216</td></tr>\n",
       "</tbody>\n",
       "</table>\n"
      ],
      "text/latex": [
       "\\begin{tabular}{l}\n",
       "\t  496\\\\\n",
       "\t  736\\\\\n",
       "\t 1216\\\\\n",
       "\\end{tabular}\n"
      ],
      "text/markdown": [
       "\n",
       "|  496 | \n",
       "|  736 | \n",
       "| 1216 | \n",
       "\n",
       "\n"
      ],
      "text/plain": [
       "     [,1]\n",
       "[1,]  496\n",
       "[2,]  736\n",
       "[3,] 1216"
      ]
     },
     "metadata": {},
     "output_type": "display_data"
    },
    {
     "data": {
      "text/html": [
       "<table>\n",
       "<tbody>\n",
       "\t<tr><td>0.4078947</td></tr>\n",
       "\t<tr><td>0.6052632</td></tr>\n",
       "\t<tr><td>1.0000000</td></tr>\n",
       "</tbody>\n",
       "</table>\n"
      ],
      "text/latex": [
       "\\begin{tabular}{l}\n",
       "\t 0.4078947\\\\\n",
       "\t 0.6052632\\\\\n",
       "\t 1.0000000\\\\\n",
       "\\end{tabular}\n"
      ],
      "text/markdown": [
       "\n",
       "| 0.4078947 | \n",
       "| 0.6052632 | \n",
       "| 1.0000000 | \n",
       "\n",
       "\n"
      ],
      "text/plain": [
       "     [,1]     \n",
       "[1,] 0.4078947\n",
       "[2,] 0.6052632\n",
       "[3,] 1.0000000"
      ]
     },
     "metadata": {},
     "output_type": "display_data"
    }
   ],
   "source": [
    "# X4 <- iterasi 4\n",
    "X4 <- B %*% X3\n",
    "X4\n",
    "eigen <- X4/1216\n",
    "eigen"
   ]
  },
  {
   "cell_type": "code",
   "execution_count": 44,
   "metadata": {},
   "outputs": [
    {
     "data": {
      "text/html": [
       "<table>\n",
       "<tbody>\n",
       "\t<tr><td>2016</td></tr>\n",
       "\t<tr><td>3008</td></tr>\n",
       "\t<tr><td>4992</td></tr>\n",
       "</tbody>\n",
       "</table>\n"
      ],
      "text/latex": [
       "\\begin{tabular}{l}\n",
       "\t 2016\\\\\n",
       "\t 3008\\\\\n",
       "\t 4992\\\\\n",
       "\\end{tabular}\n"
      ],
      "text/markdown": [
       "\n",
       "| 2016 | \n",
       "| 3008 | \n",
       "| 4992 | \n",
       "\n",
       "\n"
      ],
      "text/plain": [
       "     [,1]\n",
       "[1,] 2016\n",
       "[2,] 3008\n",
       "[3,] 4992"
      ]
     },
     "metadata": {},
     "output_type": "display_data"
    },
    {
     "data": {
      "text/html": [
       "<table>\n",
       "<tbody>\n",
       "\t<tr><td>0.4038462</td></tr>\n",
       "\t<tr><td>0.6025641</td></tr>\n",
       "\t<tr><td>1.0000000</td></tr>\n",
       "</tbody>\n",
       "</table>\n"
      ],
      "text/latex": [
       "\\begin{tabular}{l}\n",
       "\t 0.4038462\\\\\n",
       "\t 0.6025641\\\\\n",
       "\t 1.0000000\\\\\n",
       "\\end{tabular}\n"
      ],
      "text/markdown": [
       "\n",
       "| 0.4038462 | \n",
       "| 0.6025641 | \n",
       "| 1.0000000 | \n",
       "\n",
       "\n"
      ],
      "text/plain": [
       "     [,1]     \n",
       "[1,] 0.4038462\n",
       "[2,] 0.6025641\n",
       "[3,] 1.0000000"
      ]
     },
     "metadata": {},
     "output_type": "display_data"
    }
   ],
   "source": [
    "# X5 <- iterasi 5\n",
    "X5 <- B %*% X4\n",
    "X5\n",
    "eigen <- X5/4992\n",
    "eigen"
   ]
  },
  {
   "cell_type": "code",
   "execution_count": 46,
   "metadata": {},
   "outputs": [
    {
     "data": {
      "text/html": [
       "<table>\n",
       "<tbody>\n",
       "\t<tr><td> 8128</td></tr>\n",
       "\t<tr><td>12160</td></tr>\n",
       "\t<tr><td>20224</td></tr>\n",
       "</tbody>\n",
       "</table>\n"
      ],
      "text/latex": [
       "\\begin{tabular}{l}\n",
       "\t  8128\\\\\n",
       "\t 12160\\\\\n",
       "\t 20224\\\\\n",
       "\\end{tabular}\n"
      ],
      "text/markdown": [
       "\n",
       "|  8128 | \n",
       "| 12160 | \n",
       "| 20224 | \n",
       "\n",
       "\n"
      ],
      "text/plain": [
       "     [,1] \n",
       "[1,]  8128\n",
       "[2,] 12160\n",
       "[3,] 20224"
      ]
     },
     "metadata": {},
     "output_type": "display_data"
    },
    {
     "data": {
      "text/html": [
       "<table>\n",
       "<tbody>\n",
       "\t<tr><td>0.4018987</td></tr>\n",
       "\t<tr><td>0.6012658</td></tr>\n",
       "\t<tr><td>1.0000000</td></tr>\n",
       "</tbody>\n",
       "</table>\n"
      ],
      "text/latex": [
       "\\begin{tabular}{l}\n",
       "\t 0.4018987\\\\\n",
       "\t 0.6012658\\\\\n",
       "\t 1.0000000\\\\\n",
       "\\end{tabular}\n"
      ],
      "text/markdown": [
       "\n",
       "| 0.4018987 | \n",
       "| 0.6012658 | \n",
       "| 1.0000000 | \n",
       "\n",
       "\n"
      ],
      "text/plain": [
       "     [,1]     \n",
       "[1,] 0.4018987\n",
       "[2,] 0.6012658\n",
       "[3,] 1.0000000"
      ]
     },
     "metadata": {},
     "output_type": "display_data"
    }
   ],
   "source": [
    "# X6 <- iterasi 6\n",
    "X6 <- B %*% X5\n",
    "X6\n",
    "eigen <- X6/20224\n",
    "eigen"
   ]
  },
  {
   "cell_type": "code",
   "execution_count": 48,
   "metadata": {},
   "outputs": [
    {
     "data": {
      "text/html": [
       "<table>\n",
       "<tbody>\n",
       "\t<tr><td>32640</td></tr>\n",
       "\t<tr><td>48896</td></tr>\n",
       "\t<tr><td>81408</td></tr>\n",
       "</tbody>\n",
       "</table>\n"
      ],
      "text/latex": [
       "\\begin{tabular}{l}\n",
       "\t 32640\\\\\n",
       "\t 48896\\\\\n",
       "\t 81408\\\\\n",
       "\\end{tabular}\n"
      ],
      "text/markdown": [
       "\n",
       "| 32640 | \n",
       "| 48896 | \n",
       "| 81408 | \n",
       "\n",
       "\n"
      ],
      "text/plain": [
       "     [,1] \n",
       "[1,] 32640\n",
       "[2,] 48896\n",
       "[3,] 81408"
      ]
     },
     "metadata": {},
     "output_type": "display_data"
    },
    {
     "data": {
      "text/html": [
       "<table>\n",
       "<tbody>\n",
       "\t<tr><td>0.4009434</td></tr>\n",
       "\t<tr><td>0.6006289</td></tr>\n",
       "\t<tr><td>1.0000000</td></tr>\n",
       "</tbody>\n",
       "</table>\n"
      ],
      "text/latex": [
       "\\begin{tabular}{l}\n",
       "\t 0.4009434\\\\\n",
       "\t 0.6006289\\\\\n",
       "\t 1.0000000\\\\\n",
       "\\end{tabular}\n"
      ],
      "text/markdown": [
       "\n",
       "| 0.4009434 | \n",
       "| 0.6006289 | \n",
       "| 1.0000000 | \n",
       "\n",
       "\n"
      ],
      "text/plain": [
       "     [,1]     \n",
       "[1,] 0.4009434\n",
       "[2,] 0.6006289\n",
       "[3,] 1.0000000"
      ]
     },
     "metadata": {},
     "output_type": "display_data"
    }
   ],
   "source": [
    "# X7 <- iterasi 7\n",
    "X7 <- B %*% X6\n",
    "X7\n",
    "eigen <- X7/81408\n",
    "eigen"
   ]
  },
  {
   "cell_type": "code",
   "execution_count": 50,
   "metadata": {},
   "outputs": [
    {
     "data": {
      "text/html": [
       "<table>\n",
       "<tbody>\n",
       "\t<tr><td>130816</td></tr>\n",
       "\t<tr><td>196096</td></tr>\n",
       "\t<tr><td>326656</td></tr>\n",
       "</tbody>\n",
       "</table>\n"
      ],
      "text/latex": [
       "\\begin{tabular}{l}\n",
       "\t 130816\\\\\n",
       "\t 196096\\\\\n",
       "\t 326656\\\\\n",
       "\\end{tabular}\n"
      ],
      "text/markdown": [
       "\n",
       "| 130816 | \n",
       "| 196096 | \n",
       "| 326656 | \n",
       "\n",
       "\n"
      ],
      "text/plain": [
       "     [,1]  \n",
       "[1,] 130816\n",
       "[2,] 196096\n",
       "[3,] 326656"
      ]
     },
     "metadata": {},
     "output_type": "display_data"
    },
    {
     "data": {
      "text/html": [
       "<table>\n",
       "<tbody>\n",
       "\t<tr><td>0.4004702</td></tr>\n",
       "\t<tr><td>0.6003135</td></tr>\n",
       "\t<tr><td>1.0000000</td></tr>\n",
       "</tbody>\n",
       "</table>\n"
      ],
      "text/latex": [
       "\\begin{tabular}{l}\n",
       "\t 0.4004702\\\\\n",
       "\t 0.6003135\\\\\n",
       "\t 1.0000000\\\\\n",
       "\\end{tabular}\n"
      ],
      "text/markdown": [
       "\n",
       "| 0.4004702 | \n",
       "| 0.6003135 | \n",
       "| 1.0000000 | \n",
       "\n",
       "\n"
      ],
      "text/plain": [
       "     [,1]     \n",
       "[1,] 0.4004702\n",
       "[2,] 0.6003135\n",
       "[3,] 1.0000000"
      ]
     },
     "metadata": {},
     "output_type": "display_data"
    }
   ],
   "source": [
    "# X8 <- iterasi 8\n",
    "X8 <- B %*% X7\n",
    "X8\n",
    "eigen <- X8/326656\n",
    "eigen"
   ]
  },
  {
   "cell_type": "code",
   "execution_count": 52,
   "metadata": {},
   "outputs": [
    {
     "data": {
      "text/html": [
       "<table>\n",
       "<tbody>\n",
       "\t<tr><td> 523776</td></tr>\n",
       "\t<tr><td> 785408</td></tr>\n",
       "\t<tr><td>1308672</td></tr>\n",
       "</tbody>\n",
       "</table>\n"
      ],
      "text/latex": [
       "\\begin{tabular}{l}\n",
       "\t  523776\\\\\n",
       "\t  785408\\\\\n",
       "\t 1308672\\\\\n",
       "\\end{tabular}\n"
      ],
      "text/markdown": [
       "\n",
       "|  523776 | \n",
       "|  785408 | \n",
       "| 1308672 | \n",
       "\n",
       "\n"
      ],
      "text/plain": [
       "     [,1]   \n",
       "[1,]  523776\n",
       "[2,]  785408\n",
       "[3,] 1308672"
      ]
     },
     "metadata": {},
     "output_type": "display_data"
    },
    {
     "data": {
      "text/html": [
       "<table>\n",
       "<tbody>\n",
       "\t<tr><td>0.4002347</td></tr>\n",
       "\t<tr><td>0.6001565</td></tr>\n",
       "\t<tr><td>1.0000000</td></tr>\n",
       "</tbody>\n",
       "</table>\n"
      ],
      "text/latex": [
       "\\begin{tabular}{l}\n",
       "\t 0.4002347\\\\\n",
       "\t 0.6001565\\\\\n",
       "\t 1.0000000\\\\\n",
       "\\end{tabular}\n"
      ],
      "text/markdown": [
       "\n",
       "| 0.4002347 | \n",
       "| 0.6001565 | \n",
       "| 1.0000000 | \n",
       "\n",
       "\n"
      ],
      "text/plain": [
       "     [,1]     \n",
       "[1,] 0.4002347\n",
       "[2,] 0.6001565\n",
       "[3,] 1.0000000"
      ]
     },
     "metadata": {},
     "output_type": "display_data"
    }
   ],
   "source": [
    "# X9 <- iterasi 9\n",
    "X9 <- B %*% X8\n",
    "X9\n",
    "eigen <- X9/1308672\n",
    "eigen"
   ]
  },
  {
   "cell_type": "code",
   "execution_count": 54,
   "metadata": {},
   "outputs": [
    {
     "data": {
      "text/html": [
       "<table>\n",
       "<tbody>\n",
       "\t<tr><td>2096128</td></tr>\n",
       "\t<tr><td>3143680</td></tr>\n",
       "\t<tr><td>5238784</td></tr>\n",
       "</tbody>\n",
       "</table>\n"
      ],
      "text/latex": [
       "\\begin{tabular}{l}\n",
       "\t 2096128\\\\\n",
       "\t 3143680\\\\\n",
       "\t 5238784\\\\\n",
       "\\end{tabular}\n"
      ],
      "text/markdown": [
       "\n",
       "| 2096128 | \n",
       "| 3143680 | \n",
       "| 5238784 | \n",
       "\n",
       "\n"
      ],
      "text/plain": [
       "     [,1]   \n",
       "[1,] 2096128\n",
       "[2,] 3143680\n",
       "[3,] 5238784"
      ]
     },
     "metadata": {},
     "output_type": "display_data"
    },
    {
     "data": {
      "text/html": [
       "<table>\n",
       "<tbody>\n",
       "\t<tr><td>0.4001173</td></tr>\n",
       "\t<tr><td>0.6000782</td></tr>\n",
       "\t<tr><td>1.0000000</td></tr>\n",
       "</tbody>\n",
       "</table>\n"
      ],
      "text/latex": [
       "\\begin{tabular}{l}\n",
       "\t 0.4001173\\\\\n",
       "\t 0.6000782\\\\\n",
       "\t 1.0000000\\\\\n",
       "\\end{tabular}\n"
      ],
      "text/markdown": [
       "\n",
       "| 0.4001173 | \n",
       "| 0.6000782 | \n",
       "| 1.0000000 | \n",
       "\n",
       "\n"
      ],
      "text/plain": [
       "     [,1]     \n",
       "[1,] 0.4001173\n",
       "[2,] 0.6000782\n",
       "[3,] 1.0000000"
      ]
     },
     "metadata": {},
     "output_type": "display_data"
    }
   ],
   "source": [
    "# X10 <- iterasi 10\n",
    "X10 <- B %*% X9\n",
    "X10\n",
    "eigen <- X10/5238784\n",
    "eigen"
   ]
  },
  {
   "cell_type": "code",
   "execution_count": 120,
   "metadata": {},
   "outputs": [
    {
     "data": {
      "text/html": [
       "<table>\n",
       "<tbody>\n",
       "\t<tr><td>4 </td><td>-5</td></tr>\n",
       "\t<tr><td>2 </td><td> 3</td></tr>\n",
       "</tbody>\n",
       "</table>\n"
      ],
      "text/latex": [
       "\\begin{tabular}{ll}\n",
       "\t 4  & -5\\\\\n",
       "\t 2  &  3\\\\\n",
       "\\end{tabular}\n"
      ],
      "text/markdown": [
       "\n",
       "| 4  | -5 | \n",
       "| 2  |  3 | \n",
       "\n",
       "\n"
      ],
      "text/plain": [
       "     [,1] [,2]\n",
       "[1,] 4    -5  \n",
       "[2,] 2     3  "
      ]
     },
     "metadata": {},
     "output_type": "display_data"
    },
    {
     "data": {
      "text/html": [
       "<table>\n",
       "<tbody>\n",
       "\t<tr><td>1.0000</td></tr>\n",
       "\t<tr><td>0.4074</td></tr>\n",
       "</tbody>\n",
       "</table>\n"
      ],
      "text/latex": [
       "\\begin{tabular}{l}\n",
       "\t 1.0000\\\\\n",
       "\t 0.4074\\\\\n",
       "\\end{tabular}\n"
      ],
      "text/markdown": [
       "\n",
       "| 1.0000 | \n",
       "| 0.4074 | \n",
       "\n",
       "\n"
      ],
      "text/plain": [
       "     [,1]  \n",
       "[1,] 1.0000\n",
       "[2,] 0.4074"
      ]
     },
     "metadata": {},
     "output_type": "display_data"
    }
   ],
   "source": [
    "# matrix <=> A <- matrix(c(4, -5, 2, 3), 2, 2, TRUE)\n",
    "# eigen = X <- matrix(c(1.0000000, 0.4074074), 2, 1, TRUE)\n",
    "# no 2.\n",
    "\n",
    "A <- matrix(c(4, -5, 2, 3), 2, 2, TRUE)\n",
    "A\n",
    "X <- matrix(c(1.0000, 0.4074), 2, 1, TRUE)\n",
    "X"
   ]
  },
  {
   "cell_type": "code",
   "execution_count": 138,
   "metadata": {},
   "outputs": [
    {
     "data": {
      "text/html": [
       "<table>\n",
       "<tbody>\n",
       "\t<tr><td>1.9630</td></tr>\n",
       "\t<tr><td>0.7778</td></tr>\n",
       "</tbody>\n",
       "</table>\n"
      ],
      "text/latex": [
       "\\begin{tabular}{l}\n",
       "\t 1.9630\\\\\n",
       "\t 0.7778\\\\\n",
       "\\end{tabular}\n"
      ],
      "text/markdown": [
       "\n",
       "| 1.9630 | \n",
       "| 0.7778 | \n",
       "\n",
       "\n"
      ],
      "text/plain": [
       "     [,1]  \n",
       "[1,] 1.9630\n",
       "[2,] 0.7778"
      ]
     },
     "metadata": {},
     "output_type": "display_data"
    }
   ],
   "source": [
    "AX <- A %*% X\n",
    "AX"
   ]
  },
  {
   "cell_type": "code",
   "execution_count": 195,
   "metadata": {},
   "outputs": [
    {
     "data": {
      "text/html": [
       "<table>\n",
       "<tbody>\n",
       "\t<tr><td>1.9630000</td></tr>\n",
       "\t<tr><td>0.3168757</td></tr>\n",
       "</tbody>\n",
       "</table>\n"
      ],
      "text/latex": [
       "\\begin{tabular}{l}\n",
       "\t 1.9630000\\\\\n",
       "\t 0.3168757\\\\\n",
       "\\end{tabular}\n"
      ],
      "text/markdown": [
       "\n",
       "| 1.9630000 | \n",
       "| 0.3168757 | \n",
       "\n",
       "\n"
      ],
      "text/plain": [
       "     [,1]     \n",
       "[1,] 1.9630000\n",
       "[2,] 0.3168757"
      ]
     },
     "metadata": {},
     "output_type": "display_data"
    },
    {
     "data": {
      "text/html": [
       "2.2798757"
      ],
      "text/latex": [
       "2.2798757"
      ],
      "text/markdown": [
       "2.2798757"
      ],
      "text/plain": [
       "[1] 2.279876"
      ]
     },
     "metadata": {},
     "output_type": "display_data"
    }
   ],
   "source": [
    "AXX <- AX * X\n",
    "AXX\n",
    "AXX <- 1.963000 + 0.3168757\n",
    "AXX"
   ]
  },
  {
   "cell_type": "code",
   "execution_count": 198,
   "metadata": {},
   "outputs": [
    {
     "data": {
      "text/html": [
       "<table>\n",
       "<tbody>\n",
       "\t<tr><td>1.0000000</td></tr>\n",
       "\t<tr><td>0.1659748</td></tr>\n",
       "</tbody>\n",
       "</table>\n"
      ],
      "text/latex": [
       "\\begin{tabular}{l}\n",
       "\t 1.0000000\\\\\n",
       "\t 0.1659748\\\\\n",
       "\\end{tabular}\n"
      ],
      "text/markdown": [
       "\n",
       "| 1.0000000 | \n",
       "| 0.1659748 | \n",
       "\n",
       "\n"
      ],
      "text/plain": [
       "     [,1]     \n",
       "[1,] 1.0000000\n",
       "[2,] 0.1659748"
      ]
     },
     "metadata": {},
     "output_type": "display_data"
    },
    {
     "data": {
      "text/html": [
       "1.1659748"
      ],
      "text/latex": [
       "1.1659748"
      ],
      "text/markdown": [
       "1.1659748"
      ],
      "text/plain": [
       "[1] 1.165975"
      ]
     },
     "metadata": {},
     "output_type": "display_data"
    }
   ],
   "source": [
    "XX <- X * X\n",
    "XX\n",
    "XX <- 1.0000000 + 0.1659748\n",
    "XX"
   ]
  },
  {
   "cell_type": "code",
   "execution_count": 206,
   "metadata": {},
   "outputs": [
    {
     "data": {
      "text/html": [
       "1.95533874317009"
      ],
      "text/latex": [
       "1.95533874317009"
      ],
      "text/markdown": [
       "1.95533874317009"
      ],
      "text/plain": [
       "[1] 1.955339"
      ]
     },
     "metadata": {},
     "output_type": "display_data"
    }
   ],
   "source": [
    "eigenvalue_dominan <- AXX/XX\n",
    "eigenvalue_dominan"
   ]
  },
  {
   "cell_type": "code",
   "execution_count": 207,
   "metadata": {},
   "outputs": [
    {
     "data": {
      "text/html": [
       "<dl>\n",
       "\t<dt>$vector_iterations</dt>\n",
       "\t\t<dd><table>\n",
       "<thead><tr><th scope=col>v1</th><th scope=col>v2</th></tr></thead>\n",
       "<tbody>\n",
       "\t<tr><td>1         </td><td>-0.7071068</td></tr>\n",
       "\t<tr><td>1         </td><td>-0.7071068</td></tr>\n",
       "</tbody>\n",
       "</table>\n",
       "</dd>\n",
       "\t<dt>$iter</dt>\n",
       "\t\t<dd>2</dd>\n",
       "\t<dt>$vector</dt>\n",
       "\t\t<dd><table>\n",
       "<tbody>\n",
       "\t<tr><td>0.7071068</td></tr>\n",
       "\t<tr><td>0.7071068</td></tr>\n",
       "</tbody>\n",
       "</table>\n",
       "</dd>\n",
       "\t<dt>$value</dt>\n",
       "\t\t<dd>-1</dd>\n",
       "</dl>\n"
      ],
      "text/latex": [
       "\\begin{description}\n",
       "\\item[\\$vector\\_iterations] \\begin{tabular}{ll}\n",
       " v1 & v2\\\\\n",
       "\\hline\n",
       "\t 1          & -0.7071068\\\\\n",
       "\t 1          & -0.7071068\\\\\n",
       "\\end{tabular}\n",
       "\n",
       "\\item[\\$iter] 2\n",
       "\\item[\\$vector] \\begin{tabular}{l}\n",
       "\t 0.7071068\\\\\n",
       "\t 0.7071068\\\\\n",
       "\\end{tabular}\n",
       "\n",
       "\\item[\\$value] -1\n",
       "\\end{description}\n"
      ],
      "text/markdown": [
       "$vector_iterations\n",
       ":   \n",
       "v1 | v2 | \n",
       "|---|---|\n",
       "| 1          | -0.7071068 | \n",
       "| 1          | -0.7071068 | \n",
       "\n",
       "\n",
       "\n",
       "$iter\n",
       ":   2\n",
       "$vector\n",
       ":   \n",
       "| 0.7071068 | \n",
       "| 0.7071068 | \n",
       "\n",
       "\n",
       "\n",
       "$value\n",
       ":   -1\n",
       "\n",
       "\n"
      ],
      "text/plain": [
       "$vector_iterations\n",
       "     v1         v2\n",
       "[1,]  1 -0.7071068\n",
       "[2,]  1 -0.7071068\n",
       "\n",
       "$iter\n",
       "[1] 2\n",
       "\n",
       "$vector\n",
       "          [,1]\n",
       "[1,] 0.7071068\n",
       "[2,] 0.7071068\n",
       "\n",
       "$value\n",
       "[1] -1\n"
      ]
     },
     "metadata": {},
     "output_type": "display_data"
    }
   ],
   "source": [
    "powerMethod(A)"
   ]
  },
  {
   "cell_type": "code",
   "execution_count": 200,
   "metadata": {},
   "outputs": [
    {
     "data": {
      "text/html": [
       "<table>\n",
       "<tbody>\n",
       "\t<tr><td> 0 </td><td>11 </td><td> -5</td></tr>\n",
       "\t<tr><td>-2 </td><td>17 </td><td> -7</td></tr>\n",
       "\t<tr><td>-4 </td><td>26 </td><td>-10</td></tr>\n",
       "</tbody>\n",
       "</table>\n"
      ],
      "text/latex": [
       "\\begin{tabular}{lll}\n",
       "\t  0  & 11  &  -5\\\\\n",
       "\t -2  & 17  &  -7\\\\\n",
       "\t -4  & 26  & -10\\\\\n",
       "\\end{tabular}\n"
      ],
      "text/markdown": [
       "\n",
       "|  0  | 11  |  -5 | \n",
       "| -2  | 17  |  -7 | \n",
       "| -4  | 26  | -10 | \n",
       "\n",
       "\n"
      ],
      "text/plain": [
       "     [,1] [,2] [,3]\n",
       "[1,]  0   11    -5 \n",
       "[2,] -2   17    -7 \n",
       "[3,] -4   26   -10 "
      ]
     },
     "metadata": {},
     "output_type": "display_data"
    },
    {
     "data": {
      "text/html": [
       "<table>\n",
       "<tbody>\n",
       "\t<tr><td>0.4001173</td></tr>\n",
       "\t<tr><td>0.6000782</td></tr>\n",
       "\t<tr><td>1.0000000</td></tr>\n",
       "</tbody>\n",
       "</table>\n"
      ],
      "text/latex": [
       "\\begin{tabular}{l}\n",
       "\t 0.4001173\\\\\n",
       "\t 0.6000782\\\\\n",
       "\t 1.0000000\\\\\n",
       "\\end{tabular}\n"
      ],
      "text/markdown": [
       "\n",
       "| 0.4001173 | \n",
       "| 0.6000782 | \n",
       "| 1.0000000 | \n",
       "\n",
       "\n"
      ],
      "text/plain": [
       "     [,1]     \n",
       "[1,] 0.4001173\n",
       "[2,] 0.6000782\n",
       "[3,] 1.0000000"
      ]
     },
     "metadata": {},
     "output_type": "display_data"
    }
   ],
   "source": [
    "# matrix <=> B <- matrix(c(0, 11, -5, \n",
    "#                         -2, 17, -7\n",
    "#                         -4, 26, -10), 3, 3, TRUE)\n",
    "# eigen = X <- matrix(c(0.4001173, 0.6000782, 1.0000000), 3, 1, TRUE)\n",
    "# no 2.\n",
    "B <- matrix(c(0, 11, -5, \n",
    "             -2, 17, -7,\n",
    "             -4, 26, -10), 3, 3, TRUE)\n",
    "B\n",
    "X <- matrix(c(0.4001173, 0.6000782, 1.0000000), 3, 1, TRUE)\n",
    "X\n"
   ]
  },
  {
   "cell_type": "code",
   "execution_count": 201,
   "metadata": {},
   "outputs": [
    {
     "data": {
      "text/html": [
       "<table>\n",
       "<tbody>\n",
       "\t<tr><td>1.600860</td></tr>\n",
       "\t<tr><td>2.401095</td></tr>\n",
       "\t<tr><td>4.001564</td></tr>\n",
       "</tbody>\n",
       "</table>\n"
      ],
      "text/latex": [
       "\\begin{tabular}{l}\n",
       "\t 1.600860\\\\\n",
       "\t 2.401095\\\\\n",
       "\t 4.001564\\\\\n",
       "\\end{tabular}\n"
      ],
      "text/markdown": [
       "\n",
       "| 1.600860 | \n",
       "| 2.401095 | \n",
       "| 4.001564 | \n",
       "\n",
       "\n"
      ],
      "text/plain": [
       "     [,1]    \n",
       "[1,] 1.600860\n",
       "[2,] 2.401095\n",
       "[3,] 4.001564"
      ]
     },
     "metadata": {},
     "output_type": "display_data"
    }
   ],
   "source": [
    "BX <- B %*% X\n",
    "BX"
   ]
  },
  {
   "cell_type": "code",
   "execution_count": 203,
   "metadata": {},
   "outputs": [
    {
     "data": {
      "text/html": [
       "<table>\n",
       "<tbody>\n",
       "\t<tr><td>0.6405319</td></tr>\n",
       "\t<tr><td>1.4408446</td></tr>\n",
       "\t<tr><td>4.0015640</td></tr>\n",
       "</tbody>\n",
       "</table>\n"
      ],
      "text/latex": [
       "\\begin{tabular}{l}\n",
       "\t 0.6405319\\\\\n",
       "\t 1.4408446\\\\\n",
       "\t 4.0015640\\\\\n",
       "\\end{tabular}\n"
      ],
      "text/markdown": [
       "\n",
       "| 0.6405319 | \n",
       "| 1.4408446 | \n",
       "| 4.0015640 | \n",
       "\n",
       "\n"
      ],
      "text/plain": [
       "     [,1]     \n",
       "[1,] 0.6405319\n",
       "[2,] 1.4408446\n",
       "[3,] 4.0015640"
      ]
     },
     "metadata": {},
     "output_type": "display_data"
    },
    {
     "data": {
      "text/html": [
       "8.003519"
      ],
      "text/latex": [
       "8.003519"
      ],
      "text/markdown": [
       "8.003519"
      ],
      "text/plain": [
       "[1] 8.003519"
      ]
     },
     "metadata": {},
     "output_type": "display_data"
    }
   ],
   "source": [
    "BXX <- BX * X\n",
    "BXX\n",
    "BXX <- 1.600860 + 2.401095 + 4.001564\n",
    "BXX"
   ]
  },
  {
   "cell_type": "code",
   "execution_count": 204,
   "metadata": {},
   "outputs": [
    {
     "data": {
      "text/html": [
       "6.86422982726556"
      ],
      "text/latex": [
       "6.86422982726556"
      ],
      "text/markdown": [
       "6.86422982726556"
      ],
      "text/plain": [
       "[1] 6.86423"
      ]
     },
     "metadata": {},
     "output_type": "display_data"
    }
   ],
   "source": [
    "eigenvalue_dominan <- BXX/XX\n",
    "eigenvalue_dominan"
   ]
  },
  {
   "cell_type": "code",
   "execution_count": 205,
   "metadata": {},
   "outputs": [
    {
     "data": {
      "text/html": [
       "<dl>\n",
       "\t<dt>$vector_iterations</dt>\n",
       "\t\t<dd><table>\n",
       "<thead><tr><th scope=col>v1</th><th scope=col>v2</th><th scope=col>v3</th><th scope=col>v4</th><th scope=col>v5</th><th scope=col>v6</th><th scope=col>v7</th><th scope=col>v8</th><th scope=col>v9</th><th scope=col>v10</th><th scope=col>v11</th><th scope=col>v12</th><th scope=col>v13</th><th scope=col>v14</th><th scope=col>v15</th><th scope=col>v16</th><th scope=col>v17</th></tr></thead>\n",
       "<tbody>\n",
       "\t<tr><td>1        </td><td>0.3841106</td><td>0.3478328</td><td>0.3349917</td><td>0.3294704</td><td>0.3268991</td><td>0.3256571</td><td>0.3250465</td><td>0.3247438</td><td>0.3245931</td><td>0.3245179</td><td>0.3244804</td><td>0.3244616</td><td>0.3244522</td><td>0.3244475</td><td>0.3244452</td><td>0.3244440</td></tr>\n",
       "\t<tr><td>1        </td><td>0.5121475</td><td>0.4969040</td><td>0.4913212</td><td>0.4888916</td><td>0.4877542</td><td>0.4872035</td><td>0.4869325</td><td>0.4867980</td><td>0.4867311</td><td>0.4866976</td><td>0.4866809</td><td>0.4866726</td><td>0.4866684</td><td>0.4866663</td><td>0.4866653</td><td>0.4866648</td></tr>\n",
       "\t<tr><td>1        </td><td>0.7682213</td><td>0.7950464</td><td>0.8039801</td><td>0.8077340</td><td>0.8094645</td><td>0.8102964</td><td>0.8107043</td><td>0.8109064</td><td>0.8110069</td><td>0.8110570</td><td>0.8110821</td><td>0.8110946</td><td>0.8111009</td><td>0.8111040</td><td>0.8111055</td><td>0.8111063</td></tr>\n",
       "</tbody>\n",
       "</table>\n",
       "</dd>\n",
       "\t<dt>$iter</dt>\n",
       "\t\t<dd>17</dd>\n",
       "\t<dt>$vector</dt>\n",
       "\t\t<dd><table>\n",
       "<tbody>\n",
       "\t<tr><td>0.3244434</td></tr>\n",
       "\t<tr><td>0.4866645</td></tr>\n",
       "\t<tr><td>0.8111067</td></tr>\n",
       "</tbody>\n",
       "</table>\n",
       "</dd>\n",
       "\t<dt>$value</dt>\n",
       "\t\t<dd>4.00001124338033</dd>\n",
       "</dl>\n"
      ],
      "text/latex": [
       "\\begin{description}\n",
       "\\item[\\$vector\\_iterations] \\begin{tabular}{lllllllllllllllll}\n",
       " v1 & v2 & v3 & v4 & v5 & v6 & v7 & v8 & v9 & v10 & v11 & v12 & v13 & v14 & v15 & v16 & v17\\\\\n",
       "\\hline\n",
       "\t 1         & 0.3841106 & 0.3478328 & 0.3349917 & 0.3294704 & 0.3268991 & 0.3256571 & 0.3250465 & 0.3247438 & 0.3245931 & 0.3245179 & 0.3244804 & 0.3244616 & 0.3244522 & 0.3244475 & 0.3244452 & 0.3244440\\\\\n",
       "\t 1         & 0.5121475 & 0.4969040 & 0.4913212 & 0.4888916 & 0.4877542 & 0.4872035 & 0.4869325 & 0.4867980 & 0.4867311 & 0.4866976 & 0.4866809 & 0.4866726 & 0.4866684 & 0.4866663 & 0.4866653 & 0.4866648\\\\\n",
       "\t 1         & 0.7682213 & 0.7950464 & 0.8039801 & 0.8077340 & 0.8094645 & 0.8102964 & 0.8107043 & 0.8109064 & 0.8110069 & 0.8110570 & 0.8110821 & 0.8110946 & 0.8111009 & 0.8111040 & 0.8111055 & 0.8111063\\\\\n",
       "\\end{tabular}\n",
       "\n",
       "\\item[\\$iter] 17\n",
       "\\item[\\$vector] \\begin{tabular}{l}\n",
       "\t 0.3244434\\\\\n",
       "\t 0.4866645\\\\\n",
       "\t 0.8111067\\\\\n",
       "\\end{tabular}\n",
       "\n",
       "\\item[\\$value] 4.00001124338033\n",
       "\\end{description}\n"
      ],
      "text/markdown": [
       "$vector_iterations\n",
       ":   \n",
       "v1 | v2 | v3 | v4 | v5 | v6 | v7 | v8 | v9 | v10 | v11 | v12 | v13 | v14 | v15 | v16 | v17 | \n",
       "|---|---|---|\n",
       "| 1         | 0.3841106 | 0.3478328 | 0.3349917 | 0.3294704 | 0.3268991 | 0.3256571 | 0.3250465 | 0.3247438 | 0.3245931 | 0.3245179 | 0.3244804 | 0.3244616 | 0.3244522 | 0.3244475 | 0.3244452 | 0.3244440 | \n",
       "| 1         | 0.5121475 | 0.4969040 | 0.4913212 | 0.4888916 | 0.4877542 | 0.4872035 | 0.4869325 | 0.4867980 | 0.4867311 | 0.4866976 | 0.4866809 | 0.4866726 | 0.4866684 | 0.4866663 | 0.4866653 | 0.4866648 | \n",
       "| 1         | 0.7682213 | 0.7950464 | 0.8039801 | 0.8077340 | 0.8094645 | 0.8102964 | 0.8107043 | 0.8109064 | 0.8110069 | 0.8110570 | 0.8110821 | 0.8110946 | 0.8111009 | 0.8111040 | 0.8111055 | 0.8111063 | \n",
       "\n",
       "\n",
       "\n",
       "$iter\n",
       ":   17\n",
       "$vector\n",
       ":   \n",
       "| 0.3244434 | \n",
       "| 0.4866645 | \n",
       "| 0.8111067 | \n",
       "\n",
       "\n",
       "\n",
       "$value\n",
       ":   4.00001124338033\n",
       "\n",
       "\n"
      ],
      "text/plain": [
       "$vector_iterations\n",
       "     v1        v2        v3        v4        v5        v6        v7        v8\n",
       "[1,]  1 0.3841106 0.3478328 0.3349917 0.3294704 0.3268991 0.3256571 0.3250465\n",
       "[2,]  1 0.5121475 0.4969040 0.4913212 0.4888916 0.4877542 0.4872035 0.4869325\n",
       "[3,]  1 0.7682213 0.7950464 0.8039801 0.8077340 0.8094645 0.8102964 0.8107043\n",
       "            v9       v10       v11       v12       v13       v14       v15\n",
       "[1,] 0.3247438 0.3245931 0.3245179 0.3244804 0.3244616 0.3244522 0.3244475\n",
       "[2,] 0.4867980 0.4867311 0.4866976 0.4866809 0.4866726 0.4866684 0.4866663\n",
       "[3,] 0.8109064 0.8110069 0.8110570 0.8110821 0.8110946 0.8111009 0.8111040\n",
       "           v16       v17\n",
       "[1,] 0.3244452 0.3244440\n",
       "[2,] 0.4866653 0.4866648\n",
       "[3,] 0.8111055 0.8111063\n",
       "\n",
       "$iter\n",
       "[1] 17\n",
       "\n",
       "$vector\n",
       "          [,1]\n",
       "[1,] 0.3244434\n",
       "[2,] 0.4866645\n",
       "[3,] 0.8111067\n",
       "\n",
       "$value\n",
       "[1] 4.000011\n"
      ]
     },
     "metadata": {},
     "output_type": "display_data"
    }
   ],
   "source": [
    "powerMethod(B)"
   ]
  },
  {
   "cell_type": "code",
   "execution_count": null,
   "metadata": {},
   "outputs": [],
   "source": []
  },
  {
   "cell_type": "code",
   "execution_count": null,
   "metadata": {},
   "outputs": [],
   "source": []
  }
 ],
 "metadata": {
  "kernelspec": {
   "display_name": "R",
   "language": "R",
   "name": "ir"
  },
  "language_info": {
   "codemirror_mode": "r",
   "file_extension": ".r",
   "mimetype": "text/x-r-source",
   "name": "R",
   "pygments_lexer": "r",
   "version": "3.5.1"
  }
 },
 "nbformat": 4,
 "nbformat_minor": 2
}
